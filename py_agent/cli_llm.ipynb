{
 "cells": [
  {
   "cell_type": "code",
   "execution_count": 1,
   "id": "896188c1",
   "metadata": {},
   "outputs": [],
   "source": [
    "import anthropic"
   ]
  },
  {
   "cell_type": "code",
   "execution_count": 2,
   "id": "ef4e6a3a",
   "metadata": {},
   "outputs": [],
   "source": [
    "import dotenv"
   ]
  },
  {
   "cell_type": "code",
   "execution_count": 3,
   "id": "2b7987fc",
   "metadata": {},
   "outputs": [],
   "source": [
    "from anthropic import Anthropic"
   ]
  },
  {
   "cell_type": "code",
   "execution_count": 4,
   "id": "63999acf",
   "metadata": {},
   "outputs": [],
   "source": [
    "from dotenv import load_env"
   ]
  },
  {
   "cell_type": "code",
   "execution_count": 5,
   "id": "dc88b7c7",
   "metadata": {},
   "outputs": [],
   "source": [
    "from dotenv import load_dotenv"
   ]
  },
  {
   "cell_type": "code",
   "execution_count": 6,
   "id": "d5814e10",
   "metadata": {},
   "outputs": [],
   "source": [
    "import os"
   ]
  },
  {
   "cell_type": "code",
   "execution_count": 7,
   "id": "585d437f",
   "metadata": {},
   "outputs": [],
   "source": [
    "import sys"
   ]
  },
  {
   "cell_type": "code",
   "execution_count": 8,
   "id": "b10c42bd",
   "metadata": {},
   "outputs": [],
   "source": [
    "clear"
   ]
  },
  {
   "cell_type": "code",
   "execution_count": 9,
   "id": "218d6e3a",
   "metadata": {},
   "outputs": [],
   "source": [
    "def main():\n",
    "    # Load environment variables from .env file\n",
    "    dotenv.load_dotenv()\n",
    "\n",
    "    # Initialize the Anthropic client\n",
    "    client = Anthropic()\n",
    "\n",
    "    # Store conversation history\n",
    "    conversation = []\n",
    "\n",
    "    print(\"Claude CLI (Press Ctrl+C to exit)\")\n",
    "    print(\"-----------------------------------\")\n",
    "\n",
    "    try:\n",
    "        while True:\n",
    "            # Get user input\n",
    "            user_input = input(\"👤: \")\n",
    "\n",
    "            # Add user message to conversation history\n",
    "            conversation.append({\"role\": \"user\", \"content\": user_input})\n",
    "\n",
    "            # Print bot indicator before streaming response\n",
    "            sys.stdout.write(\"🤖: \")\n",
    "            sys.stdout.flush()\n",
    "\n",
    "            # Create streaming response\n",
    "            stream = client.messages.create(\n",
    "                model=\"claude-3-5-sonnet-latest\",\n",
    "                messages=conversation,\n",
    "                max_tokens=1024,\n",
    "                stream=True,\n",
    "            )\n",
    "\n",
    "            # Collect assistant's response for conversation history\n",
    "            assistant_response = \"\"\n",
    "\n",
    "            # Stream the response token by token\n",
    "            for event in stream:\n",
    "                if event.type == \"content_block_delta\":\n",
    "                    chunk = event.delta.text\n",
    "                    assistant_response += chunk\n",
    "                    sys.stdout.write(chunk)\n",
    "                    sys.stdout.flush()\n",
    "\n",
    "            # Add a newline after the response\n",
    "            print()\n",
    "\n",
    "            # Add assistant message to conversation history\n",
    "            conversation.append({\"role\": \"assistant\", \"content\": assistant_response})\n",
    "\n",
    "    except KeyboardInterrupt:\n",
    "        print(\"\\nExiting Claude CLI. Goodbye!\")\n",
    "        sys.exit(0)"
   ]
  },
  {
   "cell_type": "code",
   "execution_count": 10,
   "id": "77efc3f0",
   "metadata": {},
   "outputs": [],
   "source": [
    "main()"
   ]
  }
 ],
 "metadata": {},
 "nbformat": 4,
 "nbformat_minor": 5
}
